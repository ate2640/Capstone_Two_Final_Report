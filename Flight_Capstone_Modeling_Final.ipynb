{
 "cells": [
  {
   "cell_type": "code",
   "execution_count": 1,
   "id": "26655b1f",
   "metadata": {},
   "outputs": [],
   "source": [
    "import pandas as pd\n",
    "df3 = pd.read_csv('df2.csv')"
   ]
  },
  {
   "cell_type": "code",
   "execution_count": 2,
   "id": "750e4b82",
   "metadata": {},
   "outputs": [
    {
     "data": {
      "text/html": [
       "<div>\n",
       "<style scoped>\n",
       "    .dataframe tbody tr th:only-of-type {\n",
       "        vertical-align: middle;\n",
       "    }\n",
       "\n",
       "    .dataframe tbody tr th {\n",
       "        vertical-align: top;\n",
       "    }\n",
       "\n",
       "    .dataframe thead th {\n",
       "        text-align: right;\n",
       "    }\n",
       "</style>\n",
       "<table border=\"1\" class=\"dataframe\">\n",
       "  <thead>\n",
       "    <tr style=\"text-align: right;\">\n",
       "      <th></th>\n",
       "      <th>depdelay</th>\n",
       "      <th>arrdelay</th>\n",
       "      <th>nonhubairportorigin</th>\n",
       "      <th>smallhubairportorigin</th>\n",
       "      <th>mediumhubairportorigin</th>\n",
       "      <th>largehubairportorigin</th>\n",
       "      <th>nonhubairportdest</th>\n",
       "      <th>smallhubairportdest</th>\n",
       "      <th>mediumhubairportdest</th>\n",
       "      <th>largehubairportdest</th>\n",
       "      <th>...</th>\n",
       "      <th>windspeed</th>\n",
       "      <th>windspeedsquare</th>\n",
       "      <th>windgustdummy</th>\n",
       "      <th>windgustspeed</th>\n",
       "      <th>raindummy</th>\n",
       "      <th>raintracedummy</th>\n",
       "      <th>snowdummy</th>\n",
       "      <th>snowtracedummy</th>\n",
       "      <th>delay_sum</th>\n",
       "      <th>delayed</th>\n",
       "    </tr>\n",
       "  </thead>\n",
       "  <tbody>\n",
       "    <tr>\n",
       "      <th>0</th>\n",
       "      <td>0</td>\n",
       "      <td>-4.0</td>\n",
       "      <td>1</td>\n",
       "      <td>0</td>\n",
       "      <td>0</td>\n",
       "      <td>0</td>\n",
       "      <td>1</td>\n",
       "      <td>0</td>\n",
       "      <td>0</td>\n",
       "      <td>0</td>\n",
       "      <td>...</td>\n",
       "      <td>10.300000</td>\n",
       "      <td>106.090000</td>\n",
       "      <td>0</td>\n",
       "      <td>0.0</td>\n",
       "      <td>0</td>\n",
       "      <td>0</td>\n",
       "      <td>0</td>\n",
       "      <td>0</td>\n",
       "      <td>-4.0</td>\n",
       "      <td>0</td>\n",
       "    </tr>\n",
       "    <tr>\n",
       "      <th>1</th>\n",
       "      <td>-4</td>\n",
       "      <td>11.0</td>\n",
       "      <td>0</td>\n",
       "      <td>0</td>\n",
       "      <td>0</td>\n",
       "      <td>1</td>\n",
       "      <td>0</td>\n",
       "      <td>1</td>\n",
       "      <td>0</td>\n",
       "      <td>0</td>\n",
       "      <td>...</td>\n",
       "      <td>13.666667</td>\n",
       "      <td>186.777778</td>\n",
       "      <td>0</td>\n",
       "      <td>0.0</td>\n",
       "      <td>0</td>\n",
       "      <td>0</td>\n",
       "      <td>0</td>\n",
       "      <td>0</td>\n",
       "      <td>7.0</td>\n",
       "      <td>0</td>\n",
       "    </tr>\n",
       "    <tr>\n",
       "      <th>2</th>\n",
       "      <td>3</td>\n",
       "      <td>12.0</td>\n",
       "      <td>0</td>\n",
       "      <td>0</td>\n",
       "      <td>0</td>\n",
       "      <td>1</td>\n",
       "      <td>0</td>\n",
       "      <td>0</td>\n",
       "      <td>1</td>\n",
       "      <td>0</td>\n",
       "      <td>...</td>\n",
       "      <td>13.528302</td>\n",
       "      <td>183.014952</td>\n",
       "      <td>0</td>\n",
       "      <td>0.0</td>\n",
       "      <td>0</td>\n",
       "      <td>0</td>\n",
       "      <td>0</td>\n",
       "      <td>0</td>\n",
       "      <td>15.0</td>\n",
       "      <td>0</td>\n",
       "    </tr>\n",
       "    <tr>\n",
       "      <th>3</th>\n",
       "      <td>-3</td>\n",
       "      <td>24.0</td>\n",
       "      <td>0</td>\n",
       "      <td>0</td>\n",
       "      <td>1</td>\n",
       "      <td>0</td>\n",
       "      <td>0</td>\n",
       "      <td>0</td>\n",
       "      <td>0</td>\n",
       "      <td>1</td>\n",
       "      <td>...</td>\n",
       "      <td>0.000000</td>\n",
       "      <td>0.000000</td>\n",
       "      <td>0</td>\n",
       "      <td>0.0</td>\n",
       "      <td>1</td>\n",
       "      <td>0</td>\n",
       "      <td>0</td>\n",
       "      <td>0</td>\n",
       "      <td>21.0</td>\n",
       "      <td>1</td>\n",
       "    </tr>\n",
       "    <tr>\n",
       "      <th>4</th>\n",
       "      <td>0</td>\n",
       "      <td>-8.0</td>\n",
       "      <td>0</td>\n",
       "      <td>0</td>\n",
       "      <td>0</td>\n",
       "      <td>1</td>\n",
       "      <td>1</td>\n",
       "      <td>0</td>\n",
       "      <td>0</td>\n",
       "      <td>0</td>\n",
       "      <td>...</td>\n",
       "      <td>7.666667</td>\n",
       "      <td>58.777778</td>\n",
       "      <td>0</td>\n",
       "      <td>0.0</td>\n",
       "      <td>0</td>\n",
       "      <td>0</td>\n",
       "      <td>0</td>\n",
       "      <td>0</td>\n",
       "      <td>-8.0</td>\n",
       "      <td>0</td>\n",
       "    </tr>\n",
       "  </tbody>\n",
       "</table>\n",
       "<p>5 rows × 48 columns</p>\n",
       "</div>"
      ],
      "text/plain": [
       "   depdelay  arrdelay  nonhubairportorigin  smallhubairportorigin  \\\n",
       "0         0      -4.0                    1                      0   \n",
       "1        -4      11.0                    0                      0   \n",
       "2         3      12.0                    0                      0   \n",
       "3        -3      24.0                    0                      0   \n",
       "4         0      -8.0                    0                      0   \n",
       "\n",
       "   mediumhubairportorigin  largehubairportorigin  nonhubairportdest  \\\n",
       "0                       0                      0                  1   \n",
       "1                       0                      1                  0   \n",
       "2                       0                      1                  0   \n",
       "3                       1                      0                  0   \n",
       "4                       0                      1                  1   \n",
       "\n",
       "   smallhubairportdest  mediumhubairportdest  largehubairportdest  ...  \\\n",
       "0                    0                     0                    0  ...   \n",
       "1                    1                     0                    0  ...   \n",
       "2                    0                     1                    0  ...   \n",
       "3                    0                     0                    1  ...   \n",
       "4                    0                     0                    0  ...   \n",
       "\n",
       "   windspeed  windspeedsquare  windgustdummy  windgustspeed  raindummy  \\\n",
       "0  10.300000       106.090000              0            0.0          0   \n",
       "1  13.666667       186.777778              0            0.0          0   \n",
       "2  13.528302       183.014952              0            0.0          0   \n",
       "3   0.000000         0.000000              0            0.0          1   \n",
       "4   7.666667        58.777778              0            0.0          0   \n",
       "\n",
       "   raintracedummy  snowdummy  snowtracedummy  delay_sum  delayed  \n",
       "0               0          0               0       -4.0        0  \n",
       "1               0          0               0        7.0        0  \n",
       "2               0          0               0       15.0        0  \n",
       "3               0          0               0       21.0        1  \n",
       "4               0          0               0       -8.0        0  \n",
       "\n",
       "[5 rows x 48 columns]"
      ]
     },
     "execution_count": 2,
     "metadata": {},
     "output_type": "execute_result"
    }
   ],
   "source": [
    "import numpy as np\n",
    "df3['delayed'] = np.where(df3['delay_sum']>15, 1, 0) #created a new column such that 1 indicates a delayed flight, 0 indicates an on-time flight\n",
    "df3.head()"
   ]
  },
  {
   "cell_type": "code",
   "execution_count": 3,
   "id": "14bd41d1",
   "metadata": {},
   "outputs": [],
   "source": [
    "import pandas as pd\n",
    "import numpy as np\n",
    "import matplotlib.pyplot as plt\n",
    "%matplotlib inline"
   ]
  },
  {
   "cell_type": "code",
   "execution_count": 4,
   "id": "93c9445f",
   "metadata": {},
   "outputs": [],
   "source": [
    "import pandas as pd \n",
    "X = df3.drop('delayed', axis = 1)\n",
    "y = df3.delayed\n",
    "\n"
   ]
  },
  {
   "cell_type": "markdown",
   "id": "61a600db",
   "metadata": {},
   "source": [
    "## I've assigned X to every category from this dataset other than the target variable, i.e. the 'delayed' column; I've assigned y as the target variable which is the aforementioned column. In my case, I want to find a discrete label (i.e. 1 for a delayed flight, and 0 for an on-time flight). As such, I will explore different classification metrics, namely Decision Trees, Logistic Regression and Random Forest:"
   ]
  },
  {
   "cell_type": "markdown",
   "id": "bbe8e15c",
   "metadata": {},
   "source": [
    "# Decision Tree"
   ]
  },
  {
   "cell_type": "code",
   "execution_count": 5,
   "id": "6420b6d8",
   "metadata": {},
   "outputs": [],
   "source": [
    "from sklearn.model_selection import cross_val_score\n",
    "from sklearn.tree import DecisionTreeClassifier\n",
    "from sklearn.datasets import make_classification"
   ]
  },
  {
   "cell_type": "code",
   "execution_count": 6,
   "id": "bf89caa7",
   "metadata": {},
   "outputs": [],
   "source": [
    "    X, y = make_classification(n_samples = 1201664,\n",
    "                               n_features = 3,\n",
    "                               n_informative = 3,\n",
    "                               n_redundant = 0,\n",
    "                               n_classes = 2,\n",
    "                               random_state = 42)"
   ]
  },
  {
   "cell_type": "code",
   "execution_count": 7,
   "id": "62c6f249",
   "metadata": {},
   "outputs": [],
   "source": [
    "from sklearn.model_selection import train_test_split\n",
    "X_train, X_test, y_train, y_test = train_test_split(X, y, test_size=0.20)"
   ]
  },
  {
   "cell_type": "code",
   "execution_count": 8,
   "id": "69cf1e2d",
   "metadata": {},
   "outputs": [
    {
     "name": "stdout",
     "output_type": "stream",
     "text": [
      "[0.91974648 0.91990721 0.92017383 0.92004334 0.91939399 0.92024069\n",
      " 0.91996653]\n",
      "0.9198126536400936\n",
      "0.00026367534759847913\n"
     ]
    }
   ],
   "source": [
    "    dec_tree = DecisionTreeClassifier()\n",
    "\n",
    "    print(cross_val_score(dec_tree, X, y, scoring=\"f1\", cv = 7))\n",
    "    mean_score = cross_val_score(dec_tree, X, y, scoring=\"f1\", cv = 7).mean()\n",
    "    std_score = cross_val_score(dec_tree, X, y, scoring=\"f1\", cv = 7).std()\n",
    "    print(mean_score)\n",
    "    print(std_score)"
   ]
  },
  {
   "cell_type": "code",
   "execution_count": 10,
   "id": "8ad05376",
   "metadata": {},
   "outputs": [
    {
     "data": {
      "text/plain": [
       "DecisionTreeClassifier()"
      ]
     },
     "execution_count": 10,
     "metadata": {},
     "output_type": "execute_result"
    }
   ],
   "source": [
    "from sklearn.tree import DecisionTreeClassifier\n",
    "classifier = DecisionTreeClassifier()\n",
    "classifier.fit(X_train, y_train)"
   ]
  },
  {
   "cell_type": "code",
   "execution_count": 11,
   "id": "02694ef1",
   "metadata": {},
   "outputs": [],
   "source": [
    "y_pred = classifier.predict(X_test)"
   ]
  },
  {
   "cell_type": "code",
   "execution_count": 12,
   "id": "73a8068a",
   "metadata": {},
   "outputs": [
    {
     "name": "stdout",
     "output_type": "stream",
     "text": [
      "[[109940   9852]\n",
      " [  9673 110868]]\n",
      "              precision    recall  f1-score   support\n",
      "\n",
      "           0       0.92      0.92      0.92    119792\n",
      "           1       0.92      0.92      0.92    120541\n",
      "\n",
      "    accuracy                           0.92    240333\n",
      "   macro avg       0.92      0.92      0.92    240333\n",
      "weighted avg       0.92      0.92      0.92    240333\n",
      "\n"
     ]
    }
   ],
   "source": [
    "from sklearn.metrics import classification_report, confusion_matrix\n",
    "print(confusion_matrix(y_test, y_pred))\n",
    "print(classification_report(y_test, y_pred))"
   ]
  },
  {
   "cell_type": "markdown",
   "id": "6b465c9e",
   "metadata": {},
   "source": [
    "# Logistic Regression"
   ]
  },
  {
   "cell_type": "code",
   "execution_count": 13,
   "id": "16d2c0c3",
   "metadata": {},
   "outputs": [],
   "source": [
    "# import the class\n",
    "from sklearn.linear_model import LogisticRegression\n",
    "\n",
    "# instantiate the model (using the default parameters)\n",
    "logreg = LogisticRegression()\n",
    "\n",
    "# fit the model with data\n",
    "logreg.fit(X_train,y_train)\n",
    "\n",
    "#\n",
    "y_pred=logreg.predict(X_test)"
   ]
  },
  {
   "cell_type": "code",
   "execution_count": 14,
   "id": "9d533c36",
   "metadata": {},
   "outputs": [
    {
     "data": {
      "text/plain": [
       "array([[105868,  13924],\n",
       "       [ 15214, 105327]], dtype=int64)"
      ]
     },
     "execution_count": 14,
     "metadata": {},
     "output_type": "execute_result"
    }
   ],
   "source": [
    "# import the metrics class\n",
    "from sklearn import metrics\n",
    "cnf_matrix = metrics.confusion_matrix(y_test, y_pred)\n",
    "cnf_matrix"
   ]
  },
  {
   "cell_type": "code",
   "execution_count": 15,
   "id": "3ff990c4",
   "metadata": {},
   "outputs": [],
   "source": [
    "# import required modules\n",
    "import numpy as np\n",
    "import matplotlib.pyplot as plt\n",
    "import seaborn as sns\n",
    "%matplotlib inline"
   ]
  },
  {
   "cell_type": "code",
   "execution_count": 16,
   "id": "50849eb0",
   "metadata": {},
   "outputs": [
    {
     "data": {
      "text/plain": [
       "Text(0.5, 257.44, 'Predicted label')"
      ]
     },
     "execution_count": 16,
     "metadata": {},
     "output_type": "execute_result"
    },
    {
     "data": {
      "image/png": "[encoded data removed]",
      "text/plain": [
       "<Figure size 432x288 with 2 Axes>"
      ]
     },
     "metadata": {
      "needs_background": "light"
     },
     "output_type": "display_data"
    }
   ],
   "source": [
    "class_names=[0,1] # name  of classes\n",
    "fig, ax = plt.subplots()\n",
    "tick_marks = np.arange(len(class_names))\n",
    "plt.xticks(tick_marks, class_names)\n",
    "plt.yticks(tick_marks, class_names)\n",
    "# create heatmap\n",
    "sns.heatmap(pd.DataFrame(cnf_matrix), annot=True, cmap=\"YlGnBu\" ,fmt='g')\n",
    "ax.xaxis.set_label_position(\"top\")\n",
    "plt.tight_layout()\n",
    "plt.title('Confusion matrix', y=1.1)\n",
    "plt.ylabel('Actual label')\n",
    "plt.xlabel('Predicted label')"
   ]
  },
  {
   "cell_type": "code",
   "execution_count": 17,
   "id": "733fd608",
   "metadata": {},
   "outputs": [
    {
     "name": "stdout",
     "output_type": "stream",
     "text": [
      "Accuracy: 0.878759887323006\n",
      "Precision: 0.8832378764119379\n",
      "Recall: 0.8737856828796841\n",
      "F1-Score: 0.878486354840862\n"
     ]
    }
   ],
   "source": [
    "print(\"Accuracy:\",metrics.accuracy_score(y_test, y_pred))\n",
    "print(\"Precision:\",metrics.precision_score(y_test, y_pred))\n",
    "print(\"Recall:\",metrics.recall_score(y_test, y_pred))\n",
    "print(\"F1-Score:\",metrics.f1_score(y_test, y_pred))"
   ]
  },
  {
   "cell_type": "markdown",
   "id": "eaa7e713",
   "metadata": {},
   "source": [
    "# Random Forest"
   ]
  },
  {
   "cell_type": "code",
   "execution_count": 18,
   "id": "1ffd6558",
   "metadata": {},
   "outputs": [],
   "source": [
    "from sklearn.datasets import load_breast_cancer\n",
    "from sklearn.ensemble import RandomForestClassifier\n",
    "from sklearn.model_selection import train_test_split\n",
    "\n",
    "import pandas as pd\n",
    "import numpy as np\n",
    "from sklearn import datasets"
   ]
  },
  {
   "cell_type": "code",
   "execution_count": 19,
   "id": "5257fbab",
   "metadata": {},
   "outputs": [
    {
     "name": "stdout",
     "output_type": "stream",
     "text": [
      "Train Data: (961331, 3), (961331,)\n",
      "Test Data: (240333, 3), (240333,)\n"
     ]
    }
   ],
   "source": [
    "print(f\"Train Data: {X_train.shape}, {y_train.shape}\")\n",
    "print(f\"Test Data: {X_test.shape}, {y_test.shape}\")\n",
    "\n",
    "# Training a binary classifier using Random Forest Algorithm with default hyperparameters\n",
    "classifier = RandomForestClassifier(random_state=18)\n",
    "classifier.fit(X_train, y_train)\n",
    "\n",
    "# Here X_test, y_test are the test data points\n",
    "predictions = classifier.predict(X_test)"
   ]
  },
  {
   "cell_type": "code",
   "execution_count": 20,
   "id": "27384782",
   "metadata": {},
   "outputs": [
    {
     "name": "stdout",
     "output_type": "stream",
     "text": [
      "[[112944   6848]\n",
      " [  6816 113725]]\n"
     ]
    },
    {
     "data": {
      "image/png": "[encoded data removed]",
      "text/plain": [
       "<Figure size 432x288 with 2 Axes>"
      ]
     },
     "metadata": {
      "needs_background": "light"
     },
     "output_type": "display_data"
    }
   ],
   "source": [
    "import matplotlib.pyplot as plt\n",
    "from sklearn.metrics import confusion_matrix\n",
    "from sklearn.metrics import plot_confusion_matrix\n",
    "\n",
    "# confusion_matrix funnction a matrix containing the summary of predictions\n",
    "print(confusion_matrix(y_test, predictions))\n",
    "\n",
    "# plot_confusion_matrix function is used to visualize the confusion matrix\n",
    "plot_confusion_matrix(classifier, X_test, y_test)\n",
    "plt.show()"
   ]
  },
  {
   "cell_type": "code",
   "execution_count": 21,
   "id": "1845223e",
   "metadata": {},
   "outputs": [
    {
     "name": "stdout",
     "output_type": "stream",
     "text": [
      "Precision Score of the classifier is: 0.9432045316944921\n",
      "Accuracy of the classifier is: 0.9431455522129711\n",
      "Recall Score of the classifier is: 0.9434549240507379\n",
      "F1 Score of the classifier is: 0.9433297112569158\n"
     ]
    }
   ],
   "source": [
    "# Importing all necessary libraries\n",
    "from sklearn.metrics import precision_score\n",
    "from sklearn.metrics import accuracy_score\n",
    "# Calculating the precision score of classifier\n",
    "print(f\"Precision Score of the classifier is: {precision_score(y_test, predictions)}\")\n",
    "print(f\"Accuracy of the classifier is: {accuracy_score(y_test, predictions)}\")\n",
    "# Importing all necessary libraries\n",
    "from sklearn.metrics import recall_score\n",
    "\n",
    "# Calculating the recall score of classifier\n",
    "print(f\"Recall Score of the classifier is: {recall_score(y_test, predictions)}\")\n",
    "\n",
    "# Importing all necessary libraries\n",
    "from sklearn.metrics import f1_score\n",
    "\n",
    "# Calculating the F1 score of classifier\n",
    "print(f\"F1 Score of the classifier is: {f1_score(y_test, predictions)}\")"
   ]
  },
  {
   "cell_type": "markdown",
   "id": "2ec75b2d",
   "metadata": {},
   "source": [
    "# Findings\n",
    "\n",
    "##  Decision Tree\n",
    "### Runtime: 9:57; Precision: 91.78%; Recall: 91.91%; F1-Score: 91.84%;  Accuracy: 91.88%\n",
    "##  Logistic Regression\n",
    "### Runtime: instantaneous; Precision: 88.32%; Recall: 87.38%; F1-Score: 87.85%; Accuracy: 87.88%\n",
    "## The Random Forest \n",
    "### Runtime: 12:02; Precision 94.32%; Recall: 94.35%; F1-Score: 94.33%; Accuracy: 94.32%\n",
    "\n",
    "\n",
    "#### The Random Forest yields the highest results in all 4 categories, but with a significantly longer runtime than the other two models. The Logistic Regression's results were 3 to 6 percent less than the other two, but executed 597 times and 722 times faster than the Decision Tree and Random Forest, respectively."
   ]
  },
  {
   "cell_type": "code",
   "execution_count": null,
   "id": "a85dbf4a",
   "metadata": {},
   "outputs": [],
   "source": []
  }
 ],
 "metadata": {
  "kernelspec": {
   "display_name": "Python 3",
   "language": "python",
   "name": "python3"
  },
  "language_info": {
   "codemirror_mode": {
    "name": "ipython",
    "version": 3
   },
   "file_extension": ".py",
   "mimetype": "text/x-python",
   "name": "python",
   "nbconvert_exporter": "python",
   "pygments_lexer": "ipython3",
   "version": "3.8.8"
  }
 },
 "nbformat": 4,
 "nbformat_minor": 5
}
